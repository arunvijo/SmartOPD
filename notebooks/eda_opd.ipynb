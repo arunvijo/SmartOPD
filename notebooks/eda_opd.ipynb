{
 "cells": [
  {
   "cell_type": "code",
   "execution_count": null,
   "id": "a8722b6e",
   "metadata": {
    "vscode": {
     "languageId": "plaintext"
    }
   },
   "outputs": [],
   "source": [
    "import pandas as pd\n",
    "import matplotlib.pyplot as plt\n",
    "import seaborn as sns\n",
    "\n",
    "df = pd.read_csv('../data/opd_footfall.csv')\n",
    "df['datetime'] = pd.to_datetime(df['date']) + pd.to_timedelta(df['hour'], unit='h')\n",
    "\n",
    "# Plot footfall trends\n",
    "plt.figure(figsize=(12, 6))\n",
    "sns.lineplot(x='datetime', y='total_patients', data=df)\n",
    "plt.title(\"Simulated OPD Footfall (Hourly)\")\n",
    "plt.xticks(rotation=45)\n",
    "plt.tight_layout()\n",
    "plt.show()\n",
    "\n",
    "# Check weekend vs weekday\n",
    "df['day_of_week'] = pd.to_datetime(df['date']).dt.day_name()\n",
    "sns.boxplot(x='day_of_week', y='total_patients', data=df)\n",
    "plt.title(\"Footfall by Day of Week\")\n",
    "plt.xticks(rotation=45)\n",
    "plt.tight_layout()\n",
    "plt.show()\n"
   ]
  }
 ],
 "metadata": {
  "language_info": {
   "name": "python"
  }
 },
 "nbformat": 4,
 "nbformat_minor": 5
}
