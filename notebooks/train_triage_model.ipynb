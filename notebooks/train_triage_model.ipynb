{
 "cells": [
  {
   "cell_type": "code",
   "execution_count": 5,
   "id": "f6052cbd",
   "metadata": {},
   "outputs": [
    {
     "name": "stderr",
     "output_type": "stream",
     "text": [
      "C:\\Users\\arunv\\AppData\\Local\\Temp\\ipykernel_19576\\2522507873.py:9: FutureWarning: DataFrame.applymap has been deprecated. Use DataFrame.map instead.\n",
      "  df[binary_cols] = df[binary_cols].applymap(lambda x: 1 if x == \"Yes\" else 0)\n"
     ]
    }
   ],
   "source": [
    "import pandas as pd\n",
    "from sklearn.model_selection import train_test_split\n",
    "from sklearn.preprocessing import LabelEncoder\n",
    "\n",
    "df = pd.read_csv(\"../data/known_diseases_with_triage.csv\")\n",
    "\n",
    "# Convert Yes/No to 1/0\n",
    "binary_cols = ['Fever', 'Cough', 'Fatigue', 'Difficulty Breathing']\n",
    "df[binary_cols] = df[binary_cols].applymap(lambda x: 1 if x == \"Yes\" else 0)\n",
    "\n",
    "# Encode categorical features\n",
    "df['Gender'] = LabelEncoder().fit_transform(df['Gender'])  # Female=0, Male=1\n",
    "df['Blood Pressure'] = LabelEncoder().fit_transform(df['Blood Pressure'])  # Low=0, Normal=1, High=2\n",
    "df['Cholesterol Level'] = LabelEncoder().fit_transform(df['Cholesterol Level'])\n",
    "\n",
    "# Encode triage level as label\n",
    "target_encoder = LabelEncoder()\n",
    "df['TriageLabel'] = target_encoder.fit_transform(df['TriageLevel'])  # Normal=0, Priority=1, Emergency=2\n"
   ]
  },
  {
   "cell_type": "code",
   "execution_count": 6,
   "id": "d59a2540",
   "metadata": {},
   "outputs": [
    {
     "name": "stdout",
     "output_type": "stream",
     "text": [
      "✅ Model and label encoder saved to ../models/triage_model.pkl\n"
     ]
    }
   ],
   "source": [
    "import os\n",
    "import pickle\n",
    "from sklearn.ensemble import RandomForestClassifier\n",
    "\n",
    "# Train model\n",
    "X = df[['Fever', 'Cough', 'Fatigue', 'Difficulty Breathing', 'Age', 'Gender', 'Blood Pressure', 'Cholesterol Level']]\n",
    "y = df['TriageLabel']\n",
    "X_train, X_test, y_train, y_test = train_test_split(X, y, test_size=0.2, random_state=42)\n",
    "\n",
    "model = RandomForestClassifier()\n",
    "model.fit(X_train, y_train)\n",
    "\n",
    "# Save model\n",
    "os.makedirs(\"../models\", exist_ok=True)\n",
    "with open(\"../models/triage_model.pkl\", \"wb\") as f:\n",
    "    pickle.dump((model, target_encoder), f)\n",
    "\n",
    "print(\"✅ Model and label encoder saved to ../models/triage_model.pkl\")\n"
   ]
  }
 ],
 "metadata": {
  "kernelspec": {
   "display_name": "venv",
   "language": "python",
   "name": "python3"
  },
  "language_info": {
   "codemirror_mode": {
    "name": "ipython",
    "version": 3
   },
   "file_extension": ".py",
   "mimetype": "text/x-python",
   "name": "python",
   "nbconvert_exporter": "python",
   "pygments_lexer": "ipython3",
   "version": "3.10.0"
  }
 },
 "nbformat": 4,
 "nbformat_minor": 5
}
